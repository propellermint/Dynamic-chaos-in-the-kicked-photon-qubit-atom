{
 "cells": [
  {
   "cell_type": "markdown",
   "metadata": {},
   "source": [
    "$\\ddot{x} + \\delta \\dot{x} + \\alpha x + \\beta x^3 = \\gamma \\cos(\\omega t)$"
   ]
  },
  {
   "cell_type": "code",
   "execution_count": null,
   "metadata": {},
   "outputs": [],
   "source": [
    "import numpy as np\n",
    "import math as mp\n",
    "import matplotlib.pyplot as plt\n",
    "from tqdm import trange, notebook\n",
    "from time import sleep\n",
    "from odeintw import odeintw\n",
    "import scipy as sp\n",
    "\n",
    "\n",
    "#  define system of motion equations \n",
    "def func(z,t):\n",
    "    p, q = z\n",
    "    return [gamma*np.cos(omega * t) - delta*p - alpha * q - beta * q**3, p]\n",
    "\n",
    "\n",
    "#  initial conditions\n",
    "#-----------------------\n",
    "omega = 1.2\n",
    "gamma = 0.28\n",
    "delta = 0.3\n",
    "alpha = -1\n",
    "beta = 1\n",
    "\n",
    "Tq = 2*np.pi/omega\n",
    "\n",
    "q0 = 1.0\n",
    "p0 = 0.0\n",
    "\n",
    "n_steps = 1000       #  number of periods\n",
    "\n",
    "\n",
    "Q = np.zeros(n_steps + 1, dtype=complex) \n",
    "P = np.zeros(n_steps + 1, dtype=complex)    \n",
    "\n",
    "P[0] = p0\n",
    "Q[0] = q0\n",
    "\n",
    "mxsteps = n_steps  #  step number in solving diff. equation\n",
    "\n",
    "#  solving for phase plot\n",
    "z0 = [p0, q0]\n",
    "tmax = 500\n",
    "dt = 1e-1\n",
    "t = np.arange(0, tmax, dt)\n",
    "\n",
    "sol = odeintw(func, z0, t, atol=1e-13, rtol=1e-13, mxstep=mxsteps)\n",
    "print(sol)\n",
    "\n",
    "qq = sol[:,0]\n",
    "pp = sol[:,1]\n",
    "\n",
    "#  solution for Poincare map\n",
    "if n_steps <= 1000:\n",
    "    mxsteps = 1000\n",
    "\n",
    "#  mapping for (p, q, u, v)\n",
    "for n in notebook.tqdm(range(1, n_steps + 1)):\n",
    "\n",
    "    tn = Tq * (n - 1)\n",
    "\n",
    "    p0 = P[n - 1]\n",
    "    q0 = Q[n - 1]\n",
    "    \n",
    "    z0 = [p0, q0]\n",
    "\n",
    "    sol = odeintw(func, z0, [tn ,tn + Tq], atol=1e-12, rtol=1e-12, mxstep=mxsteps)\n",
    "    #print(sol)\n",
    "    P[n] = sol[-1,0]\n",
    "    Q[n] = sol[-1,1]"
   ]
  },
  {
   "cell_type": "code",
   "execution_count": null,
   "metadata": {},
   "outputs": [],
   "source": [
    "plt.scatter(np.real(Q), np.real(P), s=0.5)"
   ]
  },
  {
   "cell_type": "code",
   "execution_count": null,
   "metadata": {},
   "outputs": [],
   "source": [
    "plt.plot(qq)"
   ]
  },
  {
   "cell_type": "code",
   "execution_count": null,
   "metadata": {},
   "outputs": [],
   "source": [
    "tleft = 500\n",
    "tright = 1000\n",
    "\n",
    "plt.scatter(np.real(Q[tleft:tright]), np.real(P[tleft:tright]), s=10, c='r')\n",
    "plt.plot(pp[tleft:tright], qq[tleft:tright])\n",
    "plt.show()\n",
    "plt.plot(t[tleft:tright], qq[tleft:tright])"
   ]
  },
  {
   "cell_type": "code",
   "execution_count": null,
   "metadata": {},
   "outputs": [],
   "source": []
  }
 ],
 "metadata": {
  "kernelspec": {
   "display_name": "Python 3",
   "language": "python",
   "name": "python3"
  },
  "language_info": {
   "codemirror_mode": {
    "name": "ipython",
    "version": 3
   },
   "file_extension": ".py",
   "mimetype": "text/x-python",
   "name": "python",
   "nbconvert_exporter": "python",
   "pygments_lexer": "ipython3",
   "version": "3.8.7"
  }
 },
 "nbformat": 4,
 "nbformat_minor": 4
}
